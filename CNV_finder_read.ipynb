{
 "cells": [
  {
   "cell_type": "code",
   "execution_count": 1,
   "metadata": {},
   "outputs": [],
   "source": [
    "from Bio import SeqIO\n",
    "from Bio.Seq import Seq\n",
    "from Bio.SeqRecord import SeqRecord\n",
    "import numpy as np\n",
    "import pandas as pd\n",
    "import glob\n",
    "import os"
   ]
  },
  {
   "cell_type": "code",
   "execution_count": 2,
   "metadata": {},
   "outputs": [],
   "source": [
    "#read in the human reference genome and parse it into a dictionary\n",
    "record_dict = SeqIO.to_dict(SeqIO.parse('GRCh38_no_alt_analysis_set_GCA_000001405.15.fasta', 'fasta'))"
   ]
  },
  {
   "cell_type": "code",
   "execution_count": 17,
   "metadata": {},
   "outputs": [],
   "source": [
    "file_bank = glob.glob(os.path.join('read_gdc_download_20200619_175755.482406', '*.seg.v2.txt'))"
   ]
  },
  {
   "cell_type": "code",
   "execution_count": 18,
   "metadata": {},
   "outputs": [],
   "source": [
    "final_results = pd.DataFrame()\n",
    "#write a for loop to read in the files as a bed format\n",
    "for file in file_bank:\n",
    "    file_bed = pd.read_csv(file, sep='\\t', header=0)\n",
    "    \n",
    "    #filter the csv frile to a pandas dataframe with these specified columns\n",
    "    results1 = file_bed[['GDC_Aliquot', 'Chromosome', 'Start','End','Segment_Mean']]\n",
    "    \n",
    "     #filter segment length, copy gain, then find the sequence\n",
    "    Length = results1['End'] - results1['Start']\n",
    "    results1['Length'] = Length\n",
    "    results2 = results1.loc[(results1['Length']>=10) & (results1['Length']<= 500000) & (results1['Segment_Mean'] >= 0.4)]\n",
    "    \n",
    "    sequences = []\n",
    "    \n",
    "    for index ,row in results2.iterrows():\n",
    "        chromosome = 'chr' + str(row['Chromosome'])\n",
    "        start = int(row['Start'])\n",
    "        end = int(row['End'])\n",
    "        chromosome_sequence = record_dict[chromosome].seq \n",
    "        sequences.append(str(chromosome_sequence[start:end]))\n",
    "    \n",
    "    #set sequence as a separate dataframe\n",
    "    sequences1 = pd.DataFrame(sequences, columns=['Sequence'])\n",
    "     \n",
    "    #reset the index of the previous generated dataframe\n",
    "    results2 = results2.reset_index()\n",
    "    results2.drop(\"index\", axis=1)\n",
    "    \n",
    "    #join the sequence dataframe to the original dataframe \n",
    "    results2 = results2.join(sequences1, how='right')\n",
    "\n",
    "    final_results = final_results.append(results2)"
   ]
  },
  {
   "cell_type": "code",
   "execution_count": 19,
   "metadata": {},
   "outputs": [
    {
     "data": {
      "text/plain": [
       "0"
      ]
     },
     "execution_count": 19,
     "metadata": {},
     "output_type": "execute_result"
    }
   ],
   "source": [
    "final_results['Length'].isna().sum()"
   ]
  },
  {
   "cell_type": "markdown",
   "metadata": {},
   "source": [
    "## Shape of Data"
   ]
  },
  {
   "cell_type": "code",
   "execution_count": 20,
   "metadata": {},
   "outputs": [
    {
     "name": "stdout",
     "output_type": "stream",
     "text": [
      "(2547, 8)\n"
     ]
    }
   ],
   "source": [
    "print(final_results.shape)"
   ]
  },
  {
   "cell_type": "code",
   "execution_count": 21,
   "metadata": {},
   "outputs": [
    {
     "data": {
      "text/plain": [
       "<bound method NDFrame.head of     index                           GDC_Aliquot Chromosome      Start  \\\n",
       "0       4  26a56799-544a-449b-8237-fc9b8196a804          2  241129553   \n",
       "1      37  26a56799-544a-449b-8237-fc9b8196a804         19   47792055   \n",
       "0       8  782af57b-6ac7-40a3-925c-880169d50340          6   24946443   \n",
       "1      33  782af57b-6ac7-40a3-925c-880169d50340         15   27566806   \n",
       "2      35  782af57b-6ac7-40a3-925c-880169d50340         15   40774677   \n",
       "..    ...                                   ...        ...        ...   \n",
       "11    195  b5939768-e706-43d4-9f3c-b454327bade8         20     472817   \n",
       "12    204  b5939768-e706-43d4-9f3c-b454327bade8         20   36984415   \n",
       "0     137  9046317c-b457-4702-9c00-536c520f1cef          6   16946114   \n",
       "1     199  9046317c-b457-4702-9c00-536c520f1cef          8   34872345   \n",
       "2     269  9046317c-b457-4702-9c00-536c520f1cef         10   87515763   \n",
       "\n",
       "          End  Segment_Mean  Length  \\\n",
       "0   241129927        1.0309     374   \n",
       "1    47898238        0.5420  106183   \n",
       "0    24947577        1.0726    1134   \n",
       "1    27566865        1.1361      59   \n",
       "2    40774860        1.6100     183   \n",
       "..        ...           ...     ...   \n",
       "11     480135        0.4321    7318   \n",
       "12   37094427        0.8418  110012   \n",
       "0    16946808        1.2903     694   \n",
       "1    34872413        1.8185      68   \n",
       "2    87725538        0.5182  209775   \n",
       "\n",
       "                                             Sequence  \n",
       "0   TCCAATGCTTTTAGCATCAATTCTAAGAAAAATATTTCAGTGTTGG...  \n",
       "1   ACAGAGTTTTAAAACATCAACTTTTAAAGATAGATGCTTTCTTTAC...  \n",
       "0   TATCCTGTAATCCCAGCTACTCAGGAGGCTGAGTCAGGAGAGTCGC...  \n",
       "1   AAAGACATTTTAAATATTAAGACACAAATAGGACAAAAGCAAAAAA...  \n",
       "2   ATTTCATTGCATAGCGTCCTTGCTAGTTGAACGTGGTGAAAAGGAC...  \n",
       "..                                                ...  \n",
       "11  GAAGCTTTTGCAAAACCTCTCGGCCTTCCAAGAAGGTTTGTGTCTT...  \n",
       "12  ACATTTAGATTAACTTGAAAGGACATAAATATCCTCCTGGGACAAG...  \n",
       "0   AGAATGTTGAGGCTATCATCTAAGTTTCAGCACTCAGCCCAGCTGA...  \n",
       "1   AGCCAAACTTTTAATCTCAATGTCTCCATCCTTAACCTTTTACTCA...  \n",
       "2   AGAGGTTCGTTATACTACTGTTTTATATTTTTTATGTGTTTAAAGT...  \n",
       "\n",
       "[2547 rows x 8 columns]>"
      ]
     },
     "execution_count": 21,
     "metadata": {},
     "output_type": "execute_result"
    }
   ],
   "source": [
    "final_results.head"
   ]
  },
  {
   "cell_type": "code",
   "execution_count": 22,
   "metadata": {},
   "outputs": [],
   "source": [
    "#turn it into a csv file\n",
    "final_results.to_csv('cnv_results_read.csv', sep='\\t', index=False)"
   ]
  },
  {
   "cell_type": "markdown",
   "metadata": {},
   "source": [
    "## Head of Data"
   ]
  },
  {
   "cell_type": "code",
   "execution_count": 23,
   "metadata": {},
   "outputs": [
    {
     "data": {
      "text/html": [
       "<div>\n",
       "<style scoped>\n",
       "    .dataframe tbody tr th:only-of-type {\n",
       "        vertical-align: middle;\n",
       "    }\n",
       "\n",
       "    .dataframe tbody tr th {\n",
       "        vertical-align: top;\n",
       "    }\n",
       "\n",
       "    .dataframe thead th {\n",
       "        text-align: right;\n",
       "    }\n",
       "</style>\n",
       "<table border=\"1\" class=\"dataframe\">\n",
       "  <thead>\n",
       "    <tr style=\"text-align: right;\">\n",
       "      <th></th>\n",
       "      <th>index</th>\n",
       "      <th>GDC_Aliquot</th>\n",
       "      <th>Chromosome</th>\n",
       "      <th>Start</th>\n",
       "      <th>End</th>\n",
       "      <th>Segment_Mean</th>\n",
       "      <th>Length</th>\n",
       "      <th>Sequence</th>\n",
       "    </tr>\n",
       "  </thead>\n",
       "  <tbody>\n",
       "    <tr>\n",
       "      <td>0</td>\n",
       "      <td>4</td>\n",
       "      <td>26a56799-544a-449b-8237-fc9b8196a804</td>\n",
       "      <td>2</td>\n",
       "      <td>241129553</td>\n",
       "      <td>241129927</td>\n",
       "      <td>1.0309</td>\n",
       "      <td>374</td>\n",
       "      <td>TCCAATGCTTTTAGCATCAATTCTAAGAAAAATATTTCAGTGTTGG...</td>\n",
       "    </tr>\n",
       "    <tr>\n",
       "      <td>1</td>\n",
       "      <td>37</td>\n",
       "      <td>26a56799-544a-449b-8237-fc9b8196a804</td>\n",
       "      <td>19</td>\n",
       "      <td>47792055</td>\n",
       "      <td>47898238</td>\n",
       "      <td>0.5420</td>\n",
       "      <td>106183</td>\n",
       "      <td>ACAGAGTTTTAAAACATCAACTTTTAAAGATAGATGCTTTCTTTAC...</td>\n",
       "    </tr>\n",
       "    <tr>\n",
       "      <td>2</td>\n",
       "      <td>8</td>\n",
       "      <td>782af57b-6ac7-40a3-925c-880169d50340</td>\n",
       "      <td>6</td>\n",
       "      <td>24946443</td>\n",
       "      <td>24947577</td>\n",
       "      <td>1.0726</td>\n",
       "      <td>1134</td>\n",
       "      <td>TATCCTGTAATCCCAGCTACTCAGGAGGCTGAGTCAGGAGAGTCGC...</td>\n",
       "    </tr>\n",
       "    <tr>\n",
       "      <td>3</td>\n",
       "      <td>33</td>\n",
       "      <td>782af57b-6ac7-40a3-925c-880169d50340</td>\n",
       "      <td>15</td>\n",
       "      <td>27566806</td>\n",
       "      <td>27566865</td>\n",
       "      <td>1.1361</td>\n",
       "      <td>59</td>\n",
       "      <td>AAAGACATTTTAAATATTAAGACACAAATAGGACAAAAGCAAAAAA...</td>\n",
       "    </tr>\n",
       "    <tr>\n",
       "      <td>4</td>\n",
       "      <td>35</td>\n",
       "      <td>782af57b-6ac7-40a3-925c-880169d50340</td>\n",
       "      <td>15</td>\n",
       "      <td>40774677</td>\n",
       "      <td>40774860</td>\n",
       "      <td>1.6100</td>\n",
       "      <td>183</td>\n",
       "      <td>ATTTCATTGCATAGCGTCCTTGCTAGTTGAACGTGGTGAAAAGGAC...</td>\n",
       "    </tr>\n",
       "  </tbody>\n",
       "</table>\n",
       "</div>"
      ],
      "text/plain": [
       "   index                           GDC_Aliquot Chromosome      Start  \\\n",
       "0      4  26a56799-544a-449b-8237-fc9b8196a804          2  241129553   \n",
       "1     37  26a56799-544a-449b-8237-fc9b8196a804         19   47792055   \n",
       "2      8  782af57b-6ac7-40a3-925c-880169d50340          6   24946443   \n",
       "3     33  782af57b-6ac7-40a3-925c-880169d50340         15   27566806   \n",
       "4     35  782af57b-6ac7-40a3-925c-880169d50340         15   40774677   \n",
       "\n",
       "         End  Segment_Mean  Length  \\\n",
       "0  241129927        1.0309     374   \n",
       "1   47898238        0.5420  106183   \n",
       "2   24947577        1.0726    1134   \n",
       "3   27566865        1.1361      59   \n",
       "4   40774860        1.6100     183   \n",
       "\n",
       "                                            Sequence  \n",
       "0  TCCAATGCTTTTAGCATCAATTCTAAGAAAAATATTTCAGTGTTGG...  \n",
       "1  ACAGAGTTTTAAAACATCAACTTTTAAAGATAGATGCTTTCTTTAC...  \n",
       "2  TATCCTGTAATCCCAGCTACTCAGGAGGCTGAGTCAGGAGAGTCGC...  \n",
       "3  AAAGACATTTTAAATATTAAGACACAAATAGGACAAAAGCAAAAAA...  \n",
       "4  ATTTCATTGCATAGCGTCCTTGCTAGTTGAACGTGGTGAAAAGGAC...  "
      ]
     },
     "execution_count": 23,
     "metadata": {},
     "output_type": "execute_result"
    }
   ],
   "source": [
    "pd.read_csv('cnv_results_read.csv', sep='\\t', header=0).head()"
   ]
  },
  {
   "cell_type": "code",
   "execution_count": null,
   "metadata": {},
   "outputs": [],
   "source": []
  }
 ],
 "metadata": {
  "kernelspec": {
   "display_name": "Python 3",
   "language": "python",
   "name": "python3"
  },
  "language_info": {
   "codemirror_mode": {
    "name": "ipython",
    "version": 3
   },
   "file_extension": ".py",
   "mimetype": "text/x-python",
   "name": "python",
   "nbconvert_exporter": "python",
   "pygments_lexer": "ipython3",
   "version": "3.7.4"
  }
 },
 "nbformat": 4,
 "nbformat_minor": 4
}

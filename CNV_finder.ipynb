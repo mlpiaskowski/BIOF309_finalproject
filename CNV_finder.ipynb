{
 "cells": [
  {
   "cell_type": "code",
   "execution_count": 4,
   "metadata": {},
   "outputs": [],
   "source": [
    "from Bio import SeqIO\n",
    "from Bio.Seq import Seq\n",
    "from Bio.SeqRecord import SeqRecord\n",
    "import numpy as np\n",
    "import pandas as pd\n",
    "import glob\n",
    "import os"
   ]
  },
  {
   "cell_type": "code",
   "execution_count": 5,
   "metadata": {},
   "outputs": [],
   "source": [
    "#read in the human reference genome and parse it into a dictionary\n",
    "record_dict = SeqIO.to_dict(SeqIO.parse('GRCh38_no_alt_analysis_set_GCA_000001405.15.fasta', 'fasta'))"
   ]
  },
  {
   "cell_type": "code",
   "execution_count": 6,
   "metadata": {},
   "outputs": [],
   "source": [
    "file_bank = glob.glob(os.path.join('gdc_download_20200427_231049.833434', '*.seg.v2.txt'))"
   ]
  },
  {
   "cell_type": "code",
   "execution_count": 7,
   "metadata": {},
   "outputs": [],
   "source": [
    "final_results = pd.DataFrame()\n",
    "#write a for loop to read in the files as a bed format\n",
    "for file in file_bank:\n",
    "    file_bed = pd.read_csv(file, sep='\\t', header=0)\n",
    "    \n",
    "    #filter the csv frile to a pandas dataframe with these specified columns\n",
    "    results1 = file_bed[['GDC_Aliquot', 'Chromosome', 'Start','End','Segment_Mean']]\n",
    "    \n",
    "     #filter segment length, copy gain, then find the sequence\n",
    "    Length = results1['End'] - results1['Start']\n",
    "    results1['Length'] = Length\n",
    "    Length_less = results1['Length'] <= 500000\n",
    "    results2 = results1[Length_less]\n",
    "    copy_gain = results2['Segment_Mean'] >= 0.4\n",
    "    results3 = results2[copy_gain]\n",
    "    \n",
    "    sequences = []\n",
    "    \n",
    "    for index ,row in results3.iterrows():\n",
    "        chromosome = 'chr' + str(row['Chromosome'])\n",
    "        start = int(row['Start'])\n",
    "        end = int(row['End'])\n",
    "        chromosome_sequence = record_dict[chromosome].seq \n",
    "        sequences.append(str(chromosome_sequence[start:end]))\n",
    "    \n",
    "    #set sequence as a separate dataframe\n",
    "    sequences1 = pd.DataFrame(sequences, columns=['Sequence'])\n",
    "     \n",
    "    #reset the index of the previous generated dataframe\n",
    "    results3 = results3.reset_index()\n",
    "    results3.drop(\"index\", axis=1)\n",
    "    \n",
    "    #join the sequence dataframe to the original dataframe \n",
    "    results3 = results3.join(sequences1, how='right')\n",
    "\n",
    "    final_results = final_results.append(results3)"
   ]
  },
  {
   "cell_type": "markdown",
   "metadata": {},
   "source": [
    "## Shape of Data"
   ]
  },
  {
   "cell_type": "code",
   "execution_count": 11,
   "metadata": {},
   "outputs": [
    {
     "name": "stdout",
     "output_type": "stream",
     "text": [
      "(20647, 8)\n"
     ]
    }
   ],
   "source": [
    "print(final_results.shape)"
   ]
  },
  {
   "cell_type": "code",
   "execution_count": 8,
   "metadata": {},
   "outputs": [],
   "source": [
    "#turn it into a csv file\n",
    "final_results.to_csv('cnv_results_final.csv', sep='\\t', index=False)"
   ]
  },
  {
   "cell_type": "markdown",
   "metadata": {},
   "source": [
    "## Head of Data"
   ]
  },
  {
   "cell_type": "code",
   "execution_count": 9,
   "metadata": {},
   "outputs": [
    {
     "data": {
      "text/html": [
       "<div>\n",
       "<style scoped>\n",
       "    .dataframe tbody tr th:only-of-type {\n",
       "        vertical-align: middle;\n",
       "    }\n",
       "\n",
       "    .dataframe tbody tr th {\n",
       "        vertical-align: top;\n",
       "    }\n",
       "\n",
       "    .dataframe thead th {\n",
       "        text-align: right;\n",
       "    }\n",
       "</style>\n",
       "<table border=\"1\" class=\"dataframe\">\n",
       "  <thead>\n",
       "    <tr style=\"text-align: right;\">\n",
       "      <th></th>\n",
       "      <th>index</th>\n",
       "      <th>GDC_Aliquot</th>\n",
       "      <th>Chromosome</th>\n",
       "      <th>Start</th>\n",
       "      <th>End</th>\n",
       "      <th>Segment_Mean</th>\n",
       "      <th>Length</th>\n",
       "      <th>Sequence</th>\n",
       "    </tr>\n",
       "  </thead>\n",
       "  <tbody>\n",
       "    <tr>\n",
       "      <td>0</td>\n",
       "      <td>6</td>\n",
       "      <td>5a456ee8-0991-45be-92d8-d30f8ec0455c</td>\n",
       "      <td>1</td>\n",
       "      <td>27294806</td>\n",
       "      <td>27376554</td>\n",
       "      <td>0.5868</td>\n",
       "      <td>81748</td>\n",
       "      <td>TCAGTCTTTTTATTTCATTTTTTCTTAATGAACTAGATAGAAATAT...</td>\n",
       "    </tr>\n",
       "    <tr>\n",
       "      <td>1</td>\n",
       "      <td>9</td>\n",
       "      <td>5a456ee8-0991-45be-92d8-d30f8ec0455c</td>\n",
       "      <td>1</td>\n",
       "      <td>28782467</td>\n",
       "      <td>28983899</td>\n",
       "      <td>1.0996</td>\n",
       "      <td>201432</td>\n",
       "      <td>AGCAAGTCGTTAGGCTTGGCCTGTTTGGGAAGTGAGGGACCTGGGC...</td>\n",
       "    </tr>\n",
       "    <tr>\n",
       "      <td>2</td>\n",
       "      <td>10</td>\n",
       "      <td>5a456ee8-0991-45be-92d8-d30f8ec0455c</td>\n",
       "      <td>1</td>\n",
       "      <td>28984562</td>\n",
       "      <td>29001818</td>\n",
       "      <td>1.6893</td>\n",
       "      <td>17256</td>\n",
       "      <td>GAAGTAAATTTACTTGAATAAATTTAGAGAATGCCTTTGCAGTTTG...</td>\n",
       "    </tr>\n",
       "    <tr>\n",
       "      <td>3</td>\n",
       "      <td>20</td>\n",
       "      <td>5a456ee8-0991-45be-92d8-d30f8ec0455c</td>\n",
       "      <td>1</td>\n",
       "      <td>40267986</td>\n",
       "      <td>40673375</td>\n",
       "      <td>1.1267</td>\n",
       "      <td>405389</td>\n",
       "      <td>TAGTCCTTGGTTACCCATGCTGTATTGGCATAACATTAGTTACAAT...</td>\n",
       "    </tr>\n",
       "    <tr>\n",
       "      <td>4</td>\n",
       "      <td>21</td>\n",
       "      <td>5a456ee8-0991-45be-92d8-d30f8ec0455c</td>\n",
       "      <td>1</td>\n",
       "      <td>40673912</td>\n",
       "      <td>40688337</td>\n",
       "      <td>0.6618</td>\n",
       "      <td>14425</td>\n",
       "      <td>ATTAAATGAGAAAACATATGTAAAGTGATCAGCAGTGACTGGTATA...</td>\n",
       "    </tr>\n",
       "  </tbody>\n",
       "</table>\n",
       "</div>"
      ],
      "text/plain": [
       "   index                           GDC_Aliquot Chromosome     Start       End  \\\n",
       "0      6  5a456ee8-0991-45be-92d8-d30f8ec0455c          1  27294806  27376554   \n",
       "1      9  5a456ee8-0991-45be-92d8-d30f8ec0455c          1  28782467  28983899   \n",
       "2     10  5a456ee8-0991-45be-92d8-d30f8ec0455c          1  28984562  29001818   \n",
       "3     20  5a456ee8-0991-45be-92d8-d30f8ec0455c          1  40267986  40673375   \n",
       "4     21  5a456ee8-0991-45be-92d8-d30f8ec0455c          1  40673912  40688337   \n",
       "\n",
       "   Segment_Mean  Length                                           Sequence  \n",
       "0        0.5868   81748  TCAGTCTTTTTATTTCATTTTTTCTTAATGAACTAGATAGAAATAT...  \n",
       "1        1.0996  201432  AGCAAGTCGTTAGGCTTGGCCTGTTTGGGAAGTGAGGGACCTGGGC...  \n",
       "2        1.6893   17256  GAAGTAAATTTACTTGAATAAATTTAGAGAATGCCTTTGCAGTTTG...  \n",
       "3        1.1267  405389  TAGTCCTTGGTTACCCATGCTGTATTGGCATAACATTAGTTACAAT...  \n",
       "4        0.6618   14425  ATTAAATGAGAAAACATATGTAAAGTGATCAGCAGTGACTGGTATA...  "
      ]
     },
     "execution_count": 9,
     "metadata": {},
     "output_type": "execute_result"
    }
   ],
   "source": [
    "pd.read_csv('cnv_results_final.csv', sep='\\t', header=0).head()"
   ]
  },
  {
   "cell_type": "markdown",
   "metadata": {},
   "source": [
    "## Null Values Shown as False"
   ]
  },
  {
   "cell_type": "code",
   "execution_count": 10,
   "metadata": {},
   "outputs": [
    {
     "name": "stdout",
     "output_type": "stream",
     "text": [
      "    index  GDC_Aliquot  Chromosome  Start   End  Segment_Mean  Length  \\\n",
      "0    True         True        True   True  True          True    True   \n",
      "1    True         True        True   True  True          True    True   \n",
      "2    True         True        True   True  True          True    True   \n",
      "3    True         True        True   True  True          True    True   \n",
      "4    True         True        True   True  True          True    True   \n",
      "..    ...          ...         ...    ...   ...           ...     ...   \n",
      "2    True         True        True   True  True          True    True   \n",
      "3    True         True        True   True  True          True    True   \n",
      "4    True         True        True   True  True          True    True   \n",
      "5    True         True        True   True  True          True    True   \n",
      "6    True         True        True   True  True          True    True   \n",
      "\n",
      "    Sequence  \n",
      "0       True  \n",
      "1       True  \n",
      "2       True  \n",
      "3       True  \n",
      "4       True  \n",
      "..       ...  \n",
      "2       True  \n",
      "3       True  \n",
      "4       True  \n",
      "5       True  \n",
      "6       True  \n",
      "\n",
      "[20647 rows x 8 columns]\n"
     ]
    }
   ],
   "source": [
    "print(final_results.notnull())"
   ]
  }
 ],
 "metadata": {
  "kernelspec": {
   "display_name": "Python 3",
   "language": "python",
   "name": "python3"
  },
  "language_info": {
   "codemirror_mode": {
    "name": "ipython",
    "version": 3
   },
   "file_extension": ".py",
   "mimetype": "text/x-python",
   "name": "python",
   "nbconvert_exporter": "python",
   "pygments_lexer": "ipython3",
   "version": "3.7.4"
  }
 },
 "nbformat": 4,
 "nbformat_minor": 4
}
